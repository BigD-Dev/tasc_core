{
 "cells": [
  {
   "cell_type": "code",
   "execution_count": 9,
   "id": "initial_id",
   "metadata": {
    "collapsed": true,
    "ExecuteTime": {
     "end_time": "2024-09-12T12:49:10.656686Z",
     "start_time": "2024-09-12T12:49:10.618164Z"
    }
   },
   "outputs": [
    {
     "name": "stdout",
     "output_type": "stream",
     "text": [
      "Project Path: /Users/oladiranadanijo/github_repos/tasc_core/test\n"
     ]
    }
   ],
   "source": [
    "import pandas as pd\n",
    "from dotenv import load_dotenv\n",
    "import os\n",
    "from tasc_core.utils.util_nebuladb import NebulaConnector\n",
    "from tasc_core.utils.util_shopify_product_parser import ShopifyProductParser\n",
    "from requests.exceptions import HTTPError  # Add this import\n",
    "import requests\n",
    "\n",
    "\n",
    "# Load environment variables from .env file\n",
    "load_dotenv()\n",
    "\n",
    "username = os.getenv('NEBULA_DB_USERNAME')\n",
    "password = os.getenv('NEBULA_DB_PASSWORD')\n",
    "\n",
    "# Get the current working directory\n",
    "project_path = os.getcwd()\n",
    "\n",
    "print(\"Project Path:\", project_path)\n"
   ]
  },
  {
   "cell_type": "code",
   "execution_count": 24,
   "outputs": [],
   "source": [
    "nebula = NebulaConnector()\n",
    "shopify_products_df = nebula.select_df(\"SELECT * FROM tasc_prod.tasc_xref_partners LIMIT 10\")"
   ],
   "metadata": {
    "collapsed": false,
    "ExecuteTime": {
     "end_time": "2024-09-12T12:59:17.645118Z",
     "start_time": "2024-09-12T12:59:16.057891Z"
    }
   },
   "id": "1e6d36997500307"
  },
  {
   "cell_type": "code",
   "execution_count": 13,
   "outputs": [],
   "source": [
    "# Specify the encoding to handle non-UTF-8 characters\n",
    "# test_df = pd.read_csv('/Users/oladiranadanijo/github_repos/tasc_core/resources/tasc_xref_partners_seed.csv', encoding='ISO-8859-1')"
   ],
   "metadata": {
    "collapsed": false,
    "ExecuteTime": {
     "end_time": "2024-09-12T12:49:12.515498Z",
     "start_time": "2024-09-12T12:49:12.512817Z"
    }
   },
   "id": "ba7a4d78e261ebf6"
  },
  {
   "cell_type": "code",
   "execution_count": 14,
   "outputs": [],
   "source": [
    "# nebula.insert_df(table_name='tasc_xref_partners', table_schema='tasc_prod', df=test_df)"
   ],
   "metadata": {
    "collapsed": false,
    "ExecuteTime": {
     "end_time": "2024-09-12T12:49:12.516486Z",
     "start_time": "2024-09-12T12:49:12.514965Z"
    }
   },
   "id": "e96406b1c5a2d620"
  },
  {
   "cell_type": "code",
   "execution_count": 15,
   "outputs": [],
   "source": [
    "import requests\n",
    "import json\n",
    "\n",
    "def read_json_from_url(url):\n",
    "    response = requests.get(url)\n",
    "    response.raise_for_status()  # Raise an exception for HTTP errors\n",
    "    return response.json()\n",
    "\n",
    "# Example usage\n",
    "url = 'https://www.houseoferrors.org/products.json'\n",
    "json_data = read_json_from_url(url)\n",
    "\n",
    "# Pretty-print JSON data with default indent value of 4\n",
    "# print(json.dumps(json_data, indent=4))\n",
    "\n",
    "# Print JSON data without specifying indent (compact format)\n",
    "# print(json.dumps(json_data))"
   ],
   "metadata": {
    "collapsed": false,
    "ExecuteTime": {
     "end_time": "2024-09-12T12:49:12.746984Z",
     "start_time": "2024-09-12T12:49:12.517999Z"
    }
   },
   "id": "27b29565da35b8e8"
  },
  {
   "cell_type": "code",
   "execution_count": 21,
   "outputs": [],
   "source": [
    "# Assuming partners_df is already defined and contains a column named 'partner_url'\n",
    "for index, row in partners_df.iterrows():\n",
    "    print(row['partner_primary_url'])\n",
    "    # Create an instance of the parser\n",
    "    parser = ShopifyProductParser(row['partner_primary_url'] + 'products.json')\n",
    "\n",
    "    try:\n",
    "        # Load and parse the JSON data\n",
    "        parser.load_json()\n",
    "        parsed_df = parser.to_dataframe()\n",
    "\n",
    "        # Assuming parsed_df is your DataFrame\n",
    "        for column in parsed_df.columns:\n",
    "            parsed_df[column] = parsed_df[column].astype(str).str[:255]\n",
    "\n",
    "        # Convert all columns to object data type\n",
    "        # parsed_df = parsed_df.astype('object')\n",
    "\n",
    "        # Display the DataFrame with every field captured\n",
    "        display(parsed_df)\n",
    "        print(parsed_df.columns)\n",
    "        print(parsed_df.dtypes)\n",
    "        print(len(parsed_df))\n",
    "\n",
    "        # Print the distinct count of product_title\n",
    "        distinct_product_titles = parsed_df['handle'].nunique()\n",
    "        print(f\"Distinct count of product_title: {distinct_product_titles}\")\n",
    "\n",
    "        # Insert the DataFrame into the database table\n",
    "        parsed_df['asof_dt'] = pd.to_datetime('today').date()  # Add asof_dt column\n",
    "        parsed_df['created_at_tms'] = pd.to_datetime('now')  # Add created_at_tms column\n",
    "        parsed_df['created_by'] = 'oadanijo'  # Add created_by column\n",
    "        parsed_df['last_modified_tms'] = pd.to_datetime('now')  # Add last_modified_tms column\n",
    "        parsed_df['last_modified_by'] = 'oadanijo'  # Add last_modified_by column\n",
    "        parsed_df['source_date'] = pd.to_datetime('today').date()  # Add source_date column\n",
    "        parsed_df['source_datetime'] = pd.to_datetime('now')  # Add source_datetime column\n",
    "\n",
    "        nebula.insert_df(table_name='tasc_products_shopify', table_schema='tasc_prod', df=parsed_df)\n",
    "\n",
    "    except ValueError as e:\n",
    "        print(f\"Error processing {row['partner_primary_url']}: {e}\")\n",
    "    except HTTPError as e:\n",
    "        print(f\"HTTP error processing {row['partner_primary_url']}: {e}\")\n",
    "    except Exception as e:\n",
    "        print(f\"Unexpected error processing {row['partner_primary_url']}: {e}\")\n",
    "    # break"
   ],
   "metadata": {
    "collapsed": false,
    "ExecuteTime": {
     "end_time": "2024-09-12T12:58:29.501566Z",
     "start_time": "2024-09-12T12:58:29.486729Z"
    }
   },
   "id": "9a7a377fd257b2db"
  },
  {
   "cell_type": "markdown",
   "source": [],
   "metadata": {
    "collapsed": false
   },
   "id": "563b64b2829a1506"
  },
  {
   "cell_type": "code",
   "execution_count": 20,
   "outputs": [
    {
     "data": {
      "text/plain": "   id     asof_dt  partner_uid          partner_name     partner_full_name  \\\n0   1  2024-11-09            1      Houser of Errors                  None   \n1   2  2024-11-09            2          Sage NationÊ                  None   \n2   3  2024-11-09            3                 Abaga           Abaga Velli   \n3   4  2024-11-09            4  A day without angstÊ  A day without angstÊ   \n4   5  2024-11-09            5             Two JeysÊ                  None   \n5   6  2024-11-09            6         Serge DeNimes                  None   \n6   7  2024-11-09            7            CLINTS Inc                  None   \n7   8  2024-11-09            8               Corteiz                  None   \n8   9  2024-11-09            9               Carsico                  None   \n9  10  2024-11-09           10             kortsiide                  None   \n\n  partner_desc partner_type             partner_primary_url created_at_tms  \\\n0         None       VENDOR  https://www.houseoferrors.org/           None   \n1         None       VENDOR          https://sagenation.uk/           None   \n2         None       VENDOR         https://abagavelli.com/           None   \n3         None       VENDOR             https://adwoa.info/           None   \n4         None       VENDOR            https://twojeys.com/           None   \n5         None       VENDOR   https://www.sergedenimes.com/           None   \n6         None       VENDOR              https://clints.co/           None   \n7         None       VENDOR           https://www.crtz.xyz/           None   \n8         None       VENDOR      https://www.carsick-o.com/           None   \n9         None       VENDOR      https://www.kortsiide.com/           None   \n\n  created_by last_modified_tms last_modified_by source_date source_datetime  \n0   oadanijo        2024-11-09         oadanijo  2024-11-09      2024-11-09  \n1   oadanijo        2024-11-09         oadanijo  2024-11-09      2024-11-09  \n2   oadanijo        2024-11-09         oadanijo  2024-11-09      2024-11-09  \n3   oadanijo        2024-11-09         oadanijo  2024-11-09      2024-11-09  \n4   oadanijo        2024-11-09         oadanijo  2024-11-09      2024-11-09  \n5   oadanijo        2024-11-09         oadanijo  2024-11-09      2024-11-09  \n6   oadanijo        2024-11-09         oadanijo  2024-11-09      2024-11-09  \n7   oadanijo        2024-11-09         oadanijo  2024-11-09      2024-11-09  \n8   oadanijo        2024-11-09         oadanijo  2024-11-09      2024-11-09  \n9   oadanijo        2024-11-09         oadanijo  2024-11-09      2024-11-09  ",
      "text/html": "<div>\n<style scoped>\n    .dataframe tbody tr th:only-of-type {\n        vertical-align: middle;\n    }\n\n    .dataframe tbody tr th {\n        vertical-align: top;\n    }\n\n    .dataframe thead th {\n        text-align: right;\n    }\n</style>\n<table border=\"1\" class=\"dataframe\">\n  <thead>\n    <tr style=\"text-align: right;\">\n      <th></th>\n      <th>id</th>\n      <th>asof_dt</th>\n      <th>partner_uid</th>\n      <th>partner_name</th>\n      <th>partner_full_name</th>\n      <th>partner_desc</th>\n      <th>partner_type</th>\n      <th>partner_primary_url</th>\n      <th>created_at_tms</th>\n      <th>created_by</th>\n      <th>last_modified_tms</th>\n      <th>last_modified_by</th>\n      <th>source_date</th>\n      <th>source_datetime</th>\n    </tr>\n  </thead>\n  <tbody>\n    <tr>\n      <th>0</th>\n      <td>1</td>\n      <td>2024-11-09</td>\n      <td>1</td>\n      <td>Houser of Errors</td>\n      <td>None</td>\n      <td>None</td>\n      <td>VENDOR</td>\n      <td>https://www.houseoferrors.org/</td>\n      <td>None</td>\n      <td>oadanijo</td>\n      <td>2024-11-09</td>\n      <td>oadanijo</td>\n      <td>2024-11-09</td>\n      <td>2024-11-09</td>\n    </tr>\n    <tr>\n      <th>1</th>\n      <td>2</td>\n      <td>2024-11-09</td>\n      <td>2</td>\n      <td>Sage NationÊ</td>\n      <td>None</td>\n      <td>None</td>\n      <td>VENDOR</td>\n      <td>https://sagenation.uk/</td>\n      <td>None</td>\n      <td>oadanijo</td>\n      <td>2024-11-09</td>\n      <td>oadanijo</td>\n      <td>2024-11-09</td>\n      <td>2024-11-09</td>\n    </tr>\n    <tr>\n      <th>2</th>\n      <td>3</td>\n      <td>2024-11-09</td>\n      <td>3</td>\n      <td>Abaga</td>\n      <td>Abaga Velli</td>\n      <td>None</td>\n      <td>VENDOR</td>\n      <td>https://abagavelli.com/</td>\n      <td>None</td>\n      <td>oadanijo</td>\n      <td>2024-11-09</td>\n      <td>oadanijo</td>\n      <td>2024-11-09</td>\n      <td>2024-11-09</td>\n    </tr>\n    <tr>\n      <th>3</th>\n      <td>4</td>\n      <td>2024-11-09</td>\n      <td>4</td>\n      <td>A day without angstÊ</td>\n      <td>A day without angstÊ</td>\n      <td>None</td>\n      <td>VENDOR</td>\n      <td>https://adwoa.info/</td>\n      <td>None</td>\n      <td>oadanijo</td>\n      <td>2024-11-09</td>\n      <td>oadanijo</td>\n      <td>2024-11-09</td>\n      <td>2024-11-09</td>\n    </tr>\n    <tr>\n      <th>4</th>\n      <td>5</td>\n      <td>2024-11-09</td>\n      <td>5</td>\n      <td>Two JeysÊ</td>\n      <td>None</td>\n      <td>None</td>\n      <td>VENDOR</td>\n      <td>https://twojeys.com/</td>\n      <td>None</td>\n      <td>oadanijo</td>\n      <td>2024-11-09</td>\n      <td>oadanijo</td>\n      <td>2024-11-09</td>\n      <td>2024-11-09</td>\n    </tr>\n    <tr>\n      <th>5</th>\n      <td>6</td>\n      <td>2024-11-09</td>\n      <td>6</td>\n      <td>Serge DeNimes</td>\n      <td>None</td>\n      <td>None</td>\n      <td>VENDOR</td>\n      <td>https://www.sergedenimes.com/</td>\n      <td>None</td>\n      <td>oadanijo</td>\n      <td>2024-11-09</td>\n      <td>oadanijo</td>\n      <td>2024-11-09</td>\n      <td>2024-11-09</td>\n    </tr>\n    <tr>\n      <th>6</th>\n      <td>7</td>\n      <td>2024-11-09</td>\n      <td>7</td>\n      <td>CLINTS Inc</td>\n      <td>None</td>\n      <td>None</td>\n      <td>VENDOR</td>\n      <td>https://clints.co/</td>\n      <td>None</td>\n      <td>oadanijo</td>\n      <td>2024-11-09</td>\n      <td>oadanijo</td>\n      <td>2024-11-09</td>\n      <td>2024-11-09</td>\n    </tr>\n    <tr>\n      <th>7</th>\n      <td>8</td>\n      <td>2024-11-09</td>\n      <td>8</td>\n      <td>Corteiz</td>\n      <td>None</td>\n      <td>None</td>\n      <td>VENDOR</td>\n      <td>https://www.crtz.xyz/</td>\n      <td>None</td>\n      <td>oadanijo</td>\n      <td>2024-11-09</td>\n      <td>oadanijo</td>\n      <td>2024-11-09</td>\n      <td>2024-11-09</td>\n    </tr>\n    <tr>\n      <th>8</th>\n      <td>9</td>\n      <td>2024-11-09</td>\n      <td>9</td>\n      <td>Carsico</td>\n      <td>None</td>\n      <td>None</td>\n      <td>VENDOR</td>\n      <td>https://www.carsick-o.com/</td>\n      <td>None</td>\n      <td>oadanijo</td>\n      <td>2024-11-09</td>\n      <td>oadanijo</td>\n      <td>2024-11-09</td>\n      <td>2024-11-09</td>\n    </tr>\n    <tr>\n      <th>9</th>\n      <td>10</td>\n      <td>2024-11-09</td>\n      <td>10</td>\n      <td>kortsiide</td>\n      <td>None</td>\n      <td>None</td>\n      <td>VENDOR</td>\n      <td>https://www.kortsiide.com/</td>\n      <td>None</td>\n      <td>oadanijo</td>\n      <td>2024-11-09</td>\n      <td>oadanijo</td>\n      <td>2024-11-09</td>\n      <td>2024-11-09</td>\n    </tr>\n  </tbody>\n</table>\n</div>"
     },
     "execution_count": 20,
     "metadata": {},
     "output_type": "execute_result"
    }
   ],
   "source": [
    "partners_df"
   ],
   "metadata": {
    "collapsed": false,
    "ExecuteTime": {
     "end_time": "2024-09-12T12:56:32.286533Z",
     "start_time": "2024-09-12T12:56:31.775745Z"
    }
   },
   "id": "423554dc3ddf00f7"
  },
  {
   "cell_type": "code",
   "execution_count": 27,
   "outputs": [],
   "source": [
    "nebula = NebulaConnector()\n",
    "shopify_products_df = nebula.select_df(\"SELECT * FROM tasc_prod.tasc_products_shopify LIMIT 10\")"
   ],
   "metadata": {
    "collapsed": false,
    "ExecuteTime": {
     "end_time": "2024-09-12T13:00:08.497846Z",
     "start_time": "2024-09-12T13:00:06.730006Z"
    }
   },
   "id": "f37a775167063526"
  },
  {
   "cell_type": "code",
   "execution_count": 28,
   "outputs": [
    {
     "data": {
      "text/plain": "    id parent_product_id child_product_id           product_title  \\\n0    1     8581629051043   45156926685347        KNITTED MOTO TOP   \n1    2     8581629051043   45156926718115        KNITTED MOTO TOP   \n2    3     8581629051043   45156926750883        KNITTED MOTO TOP   \n3    4     8581629051043   45156926783651        KNITTED MOTO TOP   \n4    5     8581038997667   45155570188451     KNITTED MOTO JACKET   \n5    6     8581038997667   45155570221219     KNITTED MOTO JACKET   \n6    7     8581038997667   45155570253987     KNITTED MOTO JACKET   \n7    8     8581038997667   45155570286755     KNITTED MOTO JACKET   \n8    9     8581038997667   45155570319523     KNITTED MOTO JACKET   \n9  371     9543077560599   49296610722071  Camavinga Custom Ordef   \n\n                                        product_desc                  handle  \\\n0  Knitted Polo Top from soft Acrylic/Nylon Yarn ...        knitted-moto-top   \n1  Knitted Polo Top from soft Acrylic/Nylon Yarn ...        knitted-moto-top   \n2  Knitted Polo Top from soft Acrylic/Nylon Yarn ...        knitted-moto-top   \n3  Knitted Polo Top from soft Acrylic/Nylon Yarn ...        knitted-moto-top   \n4  <p>Knitted Jacket from soft <meta charset=\"utf...     knitted-moto-jacket   \n5  <p>Knitted Jacket from soft <meta charset=\"utf...     knitted-moto-jacket   \n6  <p>Knitted Jacket from soft <meta charset=\"utf...     knitted-moto-jacket   \n7  <p>Knitted Jacket from soft <meta charset=\"utf...     knitted-moto-jacket   \n8  <p>Knitted Jacket from soft <meta charset=\"utf...     knitted-moto-jacket   \n9  <p>Black Jeanius x ADWOA pant £350 </p>\\n<p>AD...  camavinga-custom-ordef   \n\n            vendor product_type  tags        published_at  ...  \\\n0  HOUSE OF ERRORS         None  None 2024-09-01 16:20:43  ...   \n1  HOUSE OF ERRORS         None  None 2024-09-01 16:20:43  ...   \n2  HOUSE OF ERRORS         None  None 2024-09-01 16:20:43  ...   \n3  HOUSE OF ERRORS         None  None 2024-09-01 16:20:43  ...   \n4  HOUSE OF ERRORS         None  None 2024-09-01 16:19:30  ...   \n5  HOUSE OF ERRORS         None  None 2024-09-01 16:19:30  ...   \n6  HOUSE OF ERRORS         None  None 2024-09-01 16:19:30  ...   \n7  HOUSE OF ERRORS         None  None 2024-09-01 16:19:30  ...   \n8  HOUSE OF ERRORS         None  None 2024-09-01 16:19:30  ...   \n9            ADWOA         None  None 2024-06-30 14:39:10  ...   \n\n                                 product_image_3_url  \\\n0  https://cdn.shopify.com/s/files/1/0327/7452/09...   \n1  https://cdn.shopify.com/s/files/1/0327/7452/09...   \n2  https://cdn.shopify.com/s/files/1/0327/7452/09...   \n3  https://cdn.shopify.com/s/files/1/0327/7452/09...   \n4  https://cdn.shopify.com/s/files/1/0327/7452/09...   \n5  https://cdn.shopify.com/s/files/1/0327/7452/09...   \n6  https://cdn.shopify.com/s/files/1/0327/7452/09...   \n7  https://cdn.shopify.com/s/files/1/0327/7452/09...   \n8  https://cdn.shopify.com/s/files/1/0327/7452/09...   \n9                                               None   \n\n                                 product_image_4_url  \\\n0  https://cdn.shopify.com/s/files/1/0327/7452/09...   \n1  https://cdn.shopify.com/s/files/1/0327/7452/09...   \n2  https://cdn.shopify.com/s/files/1/0327/7452/09...   \n3  https://cdn.shopify.com/s/files/1/0327/7452/09...   \n4  https://cdn.shopify.com/s/files/1/0327/7452/09...   \n5  https://cdn.shopify.com/s/files/1/0327/7452/09...   \n6  https://cdn.shopify.com/s/files/1/0327/7452/09...   \n7  https://cdn.shopify.com/s/files/1/0327/7452/09...   \n8  https://cdn.shopify.com/s/files/1/0327/7452/09...   \n9                                               None   \n\n                                 product_image_5_url     asof_dt  \\\n0                                               None  2024-09-12   \n1                                               None  2024-09-12   \n2                                               None  2024-09-12   \n3                                               None  2024-09-12   \n4  https://cdn.shopify.com/s/files/1/0327/7452/09...  2024-09-12   \n5  https://cdn.shopify.com/s/files/1/0327/7452/09...  2024-09-12   \n6  https://cdn.shopify.com/s/files/1/0327/7452/09...  2024-09-12   \n7  https://cdn.shopify.com/s/files/1/0327/7452/09...  2024-09-12   \n8  https://cdn.shopify.com/s/files/1/0327/7452/09...  2024-09-12   \n9                                               None  2024-09-12   \n\n              created_at_tms  created_by          last_modified_tms  \\\n0 2024-09-12 06:53:12.050412    oadanijo 2024-09-12 06:53:12.050632   \n1 2024-09-12 06:53:12.050412    oadanijo 2024-09-12 06:53:12.050632   \n2 2024-09-12 06:53:12.050412    oadanijo 2024-09-12 06:53:12.050632   \n3 2024-09-12 06:53:12.050412    oadanijo 2024-09-12 06:53:12.050632   \n4 2024-09-12 06:53:12.050412    oadanijo 2024-09-12 06:53:12.050632   \n5 2024-09-12 06:53:12.050412    oadanijo 2024-09-12 06:53:12.050632   \n6 2024-09-12 06:53:12.050412    oadanijo 2024-09-12 06:53:12.050632   \n7 2024-09-12 06:53:12.050412    oadanijo 2024-09-12 06:53:12.050632   \n8 2024-09-12 06:53:12.050412    oadanijo 2024-09-12 06:53:12.050632   \n9 2024-09-12 06:53:14.914184    oadanijo 2024-09-12 06:53:14.914535   \n\n   last_modified_by  source_date            source_datetime  \n0          oadanijo   2024-09-12 2024-09-12 06:53:12.050894  \n1          oadanijo   2024-09-12 2024-09-12 06:53:12.050894  \n2          oadanijo   2024-09-12 2024-09-12 06:53:12.050894  \n3          oadanijo   2024-09-12 2024-09-12 06:53:12.050894  \n4          oadanijo   2024-09-12 2024-09-12 06:53:12.050894  \n5          oadanijo   2024-09-12 2024-09-12 06:53:12.050894  \n6          oadanijo   2024-09-12 2024-09-12 06:53:12.050894  \n7          oadanijo   2024-09-12 2024-09-12 06:53:12.050894  \n8          oadanijo   2024-09-12 2024-09-12 06:53:12.050894  \n9          oadanijo   2024-09-12 2024-09-12 06:53:14.914832  \n\n[10 rows x 34 columns]",
      "text/html": "<div>\n<style scoped>\n    .dataframe tbody tr th:only-of-type {\n        vertical-align: middle;\n    }\n\n    .dataframe tbody tr th {\n        vertical-align: top;\n    }\n\n    .dataframe thead th {\n        text-align: right;\n    }\n</style>\n<table border=\"1\" class=\"dataframe\">\n  <thead>\n    <tr style=\"text-align: right;\">\n      <th></th>\n      <th>id</th>\n      <th>parent_product_id</th>\n      <th>child_product_id</th>\n      <th>product_title</th>\n      <th>product_desc</th>\n      <th>handle</th>\n      <th>vendor</th>\n      <th>product_type</th>\n      <th>tags</th>\n      <th>published_at</th>\n      <th>...</th>\n      <th>product_image_3_url</th>\n      <th>product_image_4_url</th>\n      <th>product_image_5_url</th>\n      <th>asof_dt</th>\n      <th>created_at_tms</th>\n      <th>created_by</th>\n      <th>last_modified_tms</th>\n      <th>last_modified_by</th>\n      <th>source_date</th>\n      <th>source_datetime</th>\n    </tr>\n  </thead>\n  <tbody>\n    <tr>\n      <th>0</th>\n      <td>1</td>\n      <td>8581629051043</td>\n      <td>45156926685347</td>\n      <td>KNITTED MOTO TOP</td>\n      <td>Knitted Polo Top from soft Acrylic/Nylon Yarn ...</td>\n      <td>knitted-moto-top</td>\n      <td>HOUSE OF ERRORS</td>\n      <td>None</td>\n      <td>None</td>\n      <td>2024-09-01 16:20:43</td>\n      <td>...</td>\n      <td>https://cdn.shopify.com/s/files/1/0327/7452/09...</td>\n      <td>https://cdn.shopify.com/s/files/1/0327/7452/09...</td>\n      <td>None</td>\n      <td>2024-09-12</td>\n      <td>2024-09-12 06:53:12.050412</td>\n      <td>oadanijo</td>\n      <td>2024-09-12 06:53:12.050632</td>\n      <td>oadanijo</td>\n      <td>2024-09-12</td>\n      <td>2024-09-12 06:53:12.050894</td>\n    </tr>\n    <tr>\n      <th>1</th>\n      <td>2</td>\n      <td>8581629051043</td>\n      <td>45156926718115</td>\n      <td>KNITTED MOTO TOP</td>\n      <td>Knitted Polo Top from soft Acrylic/Nylon Yarn ...</td>\n      <td>knitted-moto-top</td>\n      <td>HOUSE OF ERRORS</td>\n      <td>None</td>\n      <td>None</td>\n      <td>2024-09-01 16:20:43</td>\n      <td>...</td>\n      <td>https://cdn.shopify.com/s/files/1/0327/7452/09...</td>\n      <td>https://cdn.shopify.com/s/files/1/0327/7452/09...</td>\n      <td>None</td>\n      <td>2024-09-12</td>\n      <td>2024-09-12 06:53:12.050412</td>\n      <td>oadanijo</td>\n      <td>2024-09-12 06:53:12.050632</td>\n      <td>oadanijo</td>\n      <td>2024-09-12</td>\n      <td>2024-09-12 06:53:12.050894</td>\n    </tr>\n    <tr>\n      <th>2</th>\n      <td>3</td>\n      <td>8581629051043</td>\n      <td>45156926750883</td>\n      <td>KNITTED MOTO TOP</td>\n      <td>Knitted Polo Top from soft Acrylic/Nylon Yarn ...</td>\n      <td>knitted-moto-top</td>\n      <td>HOUSE OF ERRORS</td>\n      <td>None</td>\n      <td>None</td>\n      <td>2024-09-01 16:20:43</td>\n      <td>...</td>\n      <td>https://cdn.shopify.com/s/files/1/0327/7452/09...</td>\n      <td>https://cdn.shopify.com/s/files/1/0327/7452/09...</td>\n      <td>None</td>\n      <td>2024-09-12</td>\n      <td>2024-09-12 06:53:12.050412</td>\n      <td>oadanijo</td>\n      <td>2024-09-12 06:53:12.050632</td>\n      <td>oadanijo</td>\n      <td>2024-09-12</td>\n      <td>2024-09-12 06:53:12.050894</td>\n    </tr>\n    <tr>\n      <th>3</th>\n      <td>4</td>\n      <td>8581629051043</td>\n      <td>45156926783651</td>\n      <td>KNITTED MOTO TOP</td>\n      <td>Knitted Polo Top from soft Acrylic/Nylon Yarn ...</td>\n      <td>knitted-moto-top</td>\n      <td>HOUSE OF ERRORS</td>\n      <td>None</td>\n      <td>None</td>\n      <td>2024-09-01 16:20:43</td>\n      <td>...</td>\n      <td>https://cdn.shopify.com/s/files/1/0327/7452/09...</td>\n      <td>https://cdn.shopify.com/s/files/1/0327/7452/09...</td>\n      <td>None</td>\n      <td>2024-09-12</td>\n      <td>2024-09-12 06:53:12.050412</td>\n      <td>oadanijo</td>\n      <td>2024-09-12 06:53:12.050632</td>\n      <td>oadanijo</td>\n      <td>2024-09-12</td>\n      <td>2024-09-12 06:53:12.050894</td>\n    </tr>\n    <tr>\n      <th>4</th>\n      <td>5</td>\n      <td>8581038997667</td>\n      <td>45155570188451</td>\n      <td>KNITTED MOTO JACKET</td>\n      <td>&lt;p&gt;Knitted Jacket from soft &lt;meta charset=\"utf...</td>\n      <td>knitted-moto-jacket</td>\n      <td>HOUSE OF ERRORS</td>\n      <td>None</td>\n      <td>None</td>\n      <td>2024-09-01 16:19:30</td>\n      <td>...</td>\n      <td>https://cdn.shopify.com/s/files/1/0327/7452/09...</td>\n      <td>https://cdn.shopify.com/s/files/1/0327/7452/09...</td>\n      <td>https://cdn.shopify.com/s/files/1/0327/7452/09...</td>\n      <td>2024-09-12</td>\n      <td>2024-09-12 06:53:12.050412</td>\n      <td>oadanijo</td>\n      <td>2024-09-12 06:53:12.050632</td>\n      <td>oadanijo</td>\n      <td>2024-09-12</td>\n      <td>2024-09-12 06:53:12.050894</td>\n    </tr>\n    <tr>\n      <th>5</th>\n      <td>6</td>\n      <td>8581038997667</td>\n      <td>45155570221219</td>\n      <td>KNITTED MOTO JACKET</td>\n      <td>&lt;p&gt;Knitted Jacket from soft &lt;meta charset=\"utf...</td>\n      <td>knitted-moto-jacket</td>\n      <td>HOUSE OF ERRORS</td>\n      <td>None</td>\n      <td>None</td>\n      <td>2024-09-01 16:19:30</td>\n      <td>...</td>\n      <td>https://cdn.shopify.com/s/files/1/0327/7452/09...</td>\n      <td>https://cdn.shopify.com/s/files/1/0327/7452/09...</td>\n      <td>https://cdn.shopify.com/s/files/1/0327/7452/09...</td>\n      <td>2024-09-12</td>\n      <td>2024-09-12 06:53:12.050412</td>\n      <td>oadanijo</td>\n      <td>2024-09-12 06:53:12.050632</td>\n      <td>oadanijo</td>\n      <td>2024-09-12</td>\n      <td>2024-09-12 06:53:12.050894</td>\n    </tr>\n    <tr>\n      <th>6</th>\n      <td>7</td>\n      <td>8581038997667</td>\n      <td>45155570253987</td>\n      <td>KNITTED MOTO JACKET</td>\n      <td>&lt;p&gt;Knitted Jacket from soft &lt;meta charset=\"utf...</td>\n      <td>knitted-moto-jacket</td>\n      <td>HOUSE OF ERRORS</td>\n      <td>None</td>\n      <td>None</td>\n      <td>2024-09-01 16:19:30</td>\n      <td>...</td>\n      <td>https://cdn.shopify.com/s/files/1/0327/7452/09...</td>\n      <td>https://cdn.shopify.com/s/files/1/0327/7452/09...</td>\n      <td>https://cdn.shopify.com/s/files/1/0327/7452/09...</td>\n      <td>2024-09-12</td>\n      <td>2024-09-12 06:53:12.050412</td>\n      <td>oadanijo</td>\n      <td>2024-09-12 06:53:12.050632</td>\n      <td>oadanijo</td>\n      <td>2024-09-12</td>\n      <td>2024-09-12 06:53:12.050894</td>\n    </tr>\n    <tr>\n      <th>7</th>\n      <td>8</td>\n      <td>8581038997667</td>\n      <td>45155570286755</td>\n      <td>KNITTED MOTO JACKET</td>\n      <td>&lt;p&gt;Knitted Jacket from soft &lt;meta charset=\"utf...</td>\n      <td>knitted-moto-jacket</td>\n      <td>HOUSE OF ERRORS</td>\n      <td>None</td>\n      <td>None</td>\n      <td>2024-09-01 16:19:30</td>\n      <td>...</td>\n      <td>https://cdn.shopify.com/s/files/1/0327/7452/09...</td>\n      <td>https://cdn.shopify.com/s/files/1/0327/7452/09...</td>\n      <td>https://cdn.shopify.com/s/files/1/0327/7452/09...</td>\n      <td>2024-09-12</td>\n      <td>2024-09-12 06:53:12.050412</td>\n      <td>oadanijo</td>\n      <td>2024-09-12 06:53:12.050632</td>\n      <td>oadanijo</td>\n      <td>2024-09-12</td>\n      <td>2024-09-12 06:53:12.050894</td>\n    </tr>\n    <tr>\n      <th>8</th>\n      <td>9</td>\n      <td>8581038997667</td>\n      <td>45155570319523</td>\n      <td>KNITTED MOTO JACKET</td>\n      <td>&lt;p&gt;Knitted Jacket from soft &lt;meta charset=\"utf...</td>\n      <td>knitted-moto-jacket</td>\n      <td>HOUSE OF ERRORS</td>\n      <td>None</td>\n      <td>None</td>\n      <td>2024-09-01 16:19:30</td>\n      <td>...</td>\n      <td>https://cdn.shopify.com/s/files/1/0327/7452/09...</td>\n      <td>https://cdn.shopify.com/s/files/1/0327/7452/09...</td>\n      <td>https://cdn.shopify.com/s/files/1/0327/7452/09...</td>\n      <td>2024-09-12</td>\n      <td>2024-09-12 06:53:12.050412</td>\n      <td>oadanijo</td>\n      <td>2024-09-12 06:53:12.050632</td>\n      <td>oadanijo</td>\n      <td>2024-09-12</td>\n      <td>2024-09-12 06:53:12.050894</td>\n    </tr>\n    <tr>\n      <th>9</th>\n      <td>371</td>\n      <td>9543077560599</td>\n      <td>49296610722071</td>\n      <td>Camavinga Custom Ordef</td>\n      <td>&lt;p&gt;Black Jeanius x ADWOA pant £350 &lt;/p&gt;\\n&lt;p&gt;AD...</td>\n      <td>camavinga-custom-ordef</td>\n      <td>ADWOA</td>\n      <td>None</td>\n      <td>None</td>\n      <td>2024-06-30 14:39:10</td>\n      <td>...</td>\n      <td>None</td>\n      <td>None</td>\n      <td>None</td>\n      <td>2024-09-12</td>\n      <td>2024-09-12 06:53:14.914184</td>\n      <td>oadanijo</td>\n      <td>2024-09-12 06:53:14.914535</td>\n      <td>oadanijo</td>\n      <td>2024-09-12</td>\n      <td>2024-09-12 06:53:14.914832</td>\n    </tr>\n  </tbody>\n</table>\n<p>10 rows × 34 columns</p>\n</div>"
     },
     "execution_count": 28,
     "metadata": {},
     "output_type": "execute_result"
    }
   ],
   "source": [
    "shopify_products_df"
   ],
   "metadata": {
    "collapsed": false,
    "ExecuteTime": {
     "end_time": "2024-09-12T13:00:08.528474Z",
     "start_time": "2024-09-12T13:00:08.370752Z"
    }
   },
   "id": "2ae77f2750046905"
  },
  {
   "cell_type": "code",
   "execution_count": 29,
   "outputs": [
    {
     "name": "stdout",
     "output_type": "stream",
     "text": [
      "Failed to download https://cdn.shopify.com/s/files/1/0327/7452/0971/files/IMG_1949.jpg?v=1725126033: [Errno 2] No such file or directory: '/output_images_test/8581629051043_HOUSE OF ERRORS_image_1.jpg'\n",
      "Failed to download https://cdn.shopify.com/s/files/1/0327/7452/0971/files/IMG_1946.jpg?v=1725126031: [Errno 2] No such file or directory: '/output_images_test/8581629051043_HOUSE OF ERRORS_image_2.jpg'\n",
      "Failed to download https://cdn.shopify.com/s/files/1/0327/7452/0971/files/IMG_1948.jpg?v=1725126039: [Errno 2] No such file or directory: '/output_images_test/8581629051043_HOUSE OF ERRORS_image_3.jpg'\n"
     ]
    },
    {
     "ename": "KeyboardInterrupt",
     "evalue": "",
     "output_type": "error",
     "traceback": [
      "\u001B[0;31m---------------------------------------------------------------------------\u001B[0m",
      "\u001B[0;31mKeyboardInterrupt\u001B[0m                         Traceback (most recent call last)",
      "Cell \u001B[0;32mIn[29], line 27\u001B[0m\n\u001B[1;32m     25\u001B[0m \u001B[38;5;28;01mif\u001B[39;00m pd\u001B[38;5;241m.\u001B[39mnotna(url):  \u001B[38;5;66;03m# Check if the URL is not NaN\u001B[39;00m\n\u001B[1;32m     26\u001B[0m     file_name \u001B[38;5;241m=\u001B[39m \u001B[38;5;124mf\u001B[39m\u001B[38;5;124m\"\u001B[39m\u001B[38;5;124m/output_images_test/\u001B[39m\u001B[38;5;132;01m{\u001B[39;00mparent_product_id\u001B[38;5;132;01m}\u001B[39;00m\u001B[38;5;124m_\u001B[39m\u001B[38;5;132;01m{\u001B[39;00mvendor\u001B[38;5;132;01m}\u001B[39;00m\u001B[38;5;124m_image_\u001B[39m\u001B[38;5;132;01m{\u001B[39;00mi\u001B[38;5;132;01m}\u001B[39;00m\u001B[38;5;124m.jpg\u001B[39m\u001B[38;5;124m\"\u001B[39m\n\u001B[0;32m---> 27\u001B[0m     download_image(url, file_name)\n",
      "Cell \u001B[0;32mIn[29], line 4\u001B[0m, in \u001B[0;36mdownload_image\u001B[0;34m(url, file_path)\u001B[0m\n\u001B[1;32m      2\u001B[0m \u001B[38;5;28;01mdef\u001B[39;00m \u001B[38;5;21mdownload_image\u001B[39m(url, file_path):\n\u001B[1;32m      3\u001B[0m     \u001B[38;5;28;01mtry\u001B[39;00m:\n\u001B[0;32m----> 4\u001B[0m         response \u001B[38;5;241m=\u001B[39m requests\u001B[38;5;241m.\u001B[39mget(url)\n\u001B[1;32m      5\u001B[0m         response\u001B[38;5;241m.\u001B[39mraise_for_status()  \u001B[38;5;66;03m# Raise an exception for HTTP errors\u001B[39;00m\n\u001B[1;32m      6\u001B[0m         \u001B[38;5;28;01mwith\u001B[39;00m \u001B[38;5;28mopen\u001B[39m(file_path, \u001B[38;5;124m'\u001B[39m\u001B[38;5;124mwb\u001B[39m\u001B[38;5;124m'\u001B[39m) \u001B[38;5;28;01mas\u001B[39;00m f:\n",
      "File \u001B[0;32m/opt/anaconda3/envs/tasc_env/lib/python3.12/site-packages/requests/api.py:73\u001B[0m, in \u001B[0;36mget\u001B[0;34m(url, params, **kwargs)\u001B[0m\n\u001B[1;32m     62\u001B[0m \u001B[38;5;28;01mdef\u001B[39;00m \u001B[38;5;21mget\u001B[39m(url, params\u001B[38;5;241m=\u001B[39m\u001B[38;5;28;01mNone\u001B[39;00m, \u001B[38;5;241m*\u001B[39m\u001B[38;5;241m*\u001B[39mkwargs):\n\u001B[1;32m     63\u001B[0m \u001B[38;5;250m    \u001B[39m\u001B[38;5;124mr\u001B[39m\u001B[38;5;124;03m\"\"\"Sends a GET request.\u001B[39;00m\n\u001B[1;32m     64\u001B[0m \n\u001B[1;32m     65\u001B[0m \u001B[38;5;124;03m    :param url: URL for the new :class:`Request` object.\u001B[39;00m\n\u001B[0;32m   (...)\u001B[0m\n\u001B[1;32m     70\u001B[0m \u001B[38;5;124;03m    :rtype: requests.Response\u001B[39;00m\n\u001B[1;32m     71\u001B[0m \u001B[38;5;124;03m    \"\"\"\u001B[39;00m\n\u001B[0;32m---> 73\u001B[0m     \u001B[38;5;28;01mreturn\u001B[39;00m request(\u001B[38;5;124m\"\u001B[39m\u001B[38;5;124mget\u001B[39m\u001B[38;5;124m\"\u001B[39m, url, params\u001B[38;5;241m=\u001B[39mparams, \u001B[38;5;241m*\u001B[39m\u001B[38;5;241m*\u001B[39mkwargs)\n",
      "File \u001B[0;32m/opt/anaconda3/envs/tasc_env/lib/python3.12/site-packages/requests/api.py:59\u001B[0m, in \u001B[0;36mrequest\u001B[0;34m(method, url, **kwargs)\u001B[0m\n\u001B[1;32m     55\u001B[0m \u001B[38;5;66;03m# By using the 'with' statement we are sure the session is closed, thus we\u001B[39;00m\n\u001B[1;32m     56\u001B[0m \u001B[38;5;66;03m# avoid leaving sockets open which can trigger a ResourceWarning in some\u001B[39;00m\n\u001B[1;32m     57\u001B[0m \u001B[38;5;66;03m# cases, and look like a memory leak in others.\u001B[39;00m\n\u001B[1;32m     58\u001B[0m \u001B[38;5;28;01mwith\u001B[39;00m sessions\u001B[38;5;241m.\u001B[39mSession() \u001B[38;5;28;01mas\u001B[39;00m session:\n\u001B[0;32m---> 59\u001B[0m     \u001B[38;5;28;01mreturn\u001B[39;00m session\u001B[38;5;241m.\u001B[39mrequest(method\u001B[38;5;241m=\u001B[39mmethod, url\u001B[38;5;241m=\u001B[39murl, \u001B[38;5;241m*\u001B[39m\u001B[38;5;241m*\u001B[39mkwargs)\n",
      "File \u001B[0;32m/opt/anaconda3/envs/tasc_env/lib/python3.12/site-packages/requests/sessions.py:589\u001B[0m, in \u001B[0;36mSession.request\u001B[0;34m(self, method, url, params, data, headers, cookies, files, auth, timeout, allow_redirects, proxies, hooks, stream, verify, cert, json)\u001B[0m\n\u001B[1;32m    584\u001B[0m send_kwargs \u001B[38;5;241m=\u001B[39m {\n\u001B[1;32m    585\u001B[0m     \u001B[38;5;124m\"\u001B[39m\u001B[38;5;124mtimeout\u001B[39m\u001B[38;5;124m\"\u001B[39m: timeout,\n\u001B[1;32m    586\u001B[0m     \u001B[38;5;124m\"\u001B[39m\u001B[38;5;124mallow_redirects\u001B[39m\u001B[38;5;124m\"\u001B[39m: allow_redirects,\n\u001B[1;32m    587\u001B[0m }\n\u001B[1;32m    588\u001B[0m send_kwargs\u001B[38;5;241m.\u001B[39mupdate(settings)\n\u001B[0;32m--> 589\u001B[0m resp \u001B[38;5;241m=\u001B[39m \u001B[38;5;28mself\u001B[39m\u001B[38;5;241m.\u001B[39msend(prep, \u001B[38;5;241m*\u001B[39m\u001B[38;5;241m*\u001B[39msend_kwargs)\n\u001B[1;32m    591\u001B[0m \u001B[38;5;28;01mreturn\u001B[39;00m resp\n",
      "File \u001B[0;32m/opt/anaconda3/envs/tasc_env/lib/python3.12/site-packages/requests/sessions.py:703\u001B[0m, in \u001B[0;36mSession.send\u001B[0;34m(self, request, **kwargs)\u001B[0m\n\u001B[1;32m    700\u001B[0m start \u001B[38;5;241m=\u001B[39m preferred_clock()\n\u001B[1;32m    702\u001B[0m \u001B[38;5;66;03m# Send the request\u001B[39;00m\n\u001B[0;32m--> 703\u001B[0m r \u001B[38;5;241m=\u001B[39m adapter\u001B[38;5;241m.\u001B[39msend(request, \u001B[38;5;241m*\u001B[39m\u001B[38;5;241m*\u001B[39mkwargs)\n\u001B[1;32m    705\u001B[0m \u001B[38;5;66;03m# Total elapsed time of the request (approximately)\u001B[39;00m\n\u001B[1;32m    706\u001B[0m elapsed \u001B[38;5;241m=\u001B[39m preferred_clock() \u001B[38;5;241m-\u001B[39m start\n",
      "File \u001B[0;32m/opt/anaconda3/envs/tasc_env/lib/python3.12/site-packages/requests/adapters.py:667\u001B[0m, in \u001B[0;36mHTTPAdapter.send\u001B[0;34m(self, request, stream, timeout, verify, cert, proxies)\u001B[0m\n\u001B[1;32m    664\u001B[0m     timeout \u001B[38;5;241m=\u001B[39m TimeoutSauce(connect\u001B[38;5;241m=\u001B[39mtimeout, read\u001B[38;5;241m=\u001B[39mtimeout)\n\u001B[1;32m    666\u001B[0m \u001B[38;5;28;01mtry\u001B[39;00m:\n\u001B[0;32m--> 667\u001B[0m     resp \u001B[38;5;241m=\u001B[39m conn\u001B[38;5;241m.\u001B[39murlopen(\n\u001B[1;32m    668\u001B[0m         method\u001B[38;5;241m=\u001B[39mrequest\u001B[38;5;241m.\u001B[39mmethod,\n\u001B[1;32m    669\u001B[0m         url\u001B[38;5;241m=\u001B[39murl,\n\u001B[1;32m    670\u001B[0m         body\u001B[38;5;241m=\u001B[39mrequest\u001B[38;5;241m.\u001B[39mbody,\n\u001B[1;32m    671\u001B[0m         headers\u001B[38;5;241m=\u001B[39mrequest\u001B[38;5;241m.\u001B[39mheaders,\n\u001B[1;32m    672\u001B[0m         redirect\u001B[38;5;241m=\u001B[39m\u001B[38;5;28;01mFalse\u001B[39;00m,\n\u001B[1;32m    673\u001B[0m         assert_same_host\u001B[38;5;241m=\u001B[39m\u001B[38;5;28;01mFalse\u001B[39;00m,\n\u001B[1;32m    674\u001B[0m         preload_content\u001B[38;5;241m=\u001B[39m\u001B[38;5;28;01mFalse\u001B[39;00m,\n\u001B[1;32m    675\u001B[0m         decode_content\u001B[38;5;241m=\u001B[39m\u001B[38;5;28;01mFalse\u001B[39;00m,\n\u001B[1;32m    676\u001B[0m         retries\u001B[38;5;241m=\u001B[39m\u001B[38;5;28mself\u001B[39m\u001B[38;5;241m.\u001B[39mmax_retries,\n\u001B[1;32m    677\u001B[0m         timeout\u001B[38;5;241m=\u001B[39mtimeout,\n\u001B[1;32m    678\u001B[0m         chunked\u001B[38;5;241m=\u001B[39mchunked,\n\u001B[1;32m    679\u001B[0m     )\n\u001B[1;32m    681\u001B[0m \u001B[38;5;28;01mexcept\u001B[39;00m (ProtocolError, \u001B[38;5;167;01mOSError\u001B[39;00m) \u001B[38;5;28;01mas\u001B[39;00m err:\n\u001B[1;32m    682\u001B[0m     \u001B[38;5;28;01mraise\u001B[39;00m \u001B[38;5;167;01mConnectionError\u001B[39;00m(err, request\u001B[38;5;241m=\u001B[39mrequest)\n",
      "File \u001B[0;32m/opt/anaconda3/envs/tasc_env/lib/python3.12/site-packages/urllib3/connectionpool.py:789\u001B[0m, in \u001B[0;36mHTTPConnectionPool.urlopen\u001B[0;34m(self, method, url, body, headers, retries, redirect, assert_same_host, timeout, pool_timeout, release_conn, chunked, body_pos, preload_content, decode_content, **response_kw)\u001B[0m\n\u001B[1;32m    786\u001B[0m response_conn \u001B[38;5;241m=\u001B[39m conn \u001B[38;5;28;01mif\u001B[39;00m \u001B[38;5;129;01mnot\u001B[39;00m release_conn \u001B[38;5;28;01melse\u001B[39;00m \u001B[38;5;28;01mNone\u001B[39;00m\n\u001B[1;32m    788\u001B[0m \u001B[38;5;66;03m# Make the request on the HTTPConnection object\u001B[39;00m\n\u001B[0;32m--> 789\u001B[0m response \u001B[38;5;241m=\u001B[39m \u001B[38;5;28mself\u001B[39m\u001B[38;5;241m.\u001B[39m_make_request(\n\u001B[1;32m    790\u001B[0m     conn,\n\u001B[1;32m    791\u001B[0m     method,\n\u001B[1;32m    792\u001B[0m     url,\n\u001B[1;32m    793\u001B[0m     timeout\u001B[38;5;241m=\u001B[39mtimeout_obj,\n\u001B[1;32m    794\u001B[0m     body\u001B[38;5;241m=\u001B[39mbody,\n\u001B[1;32m    795\u001B[0m     headers\u001B[38;5;241m=\u001B[39mheaders,\n\u001B[1;32m    796\u001B[0m     chunked\u001B[38;5;241m=\u001B[39mchunked,\n\u001B[1;32m    797\u001B[0m     retries\u001B[38;5;241m=\u001B[39mretries,\n\u001B[1;32m    798\u001B[0m     response_conn\u001B[38;5;241m=\u001B[39mresponse_conn,\n\u001B[1;32m    799\u001B[0m     preload_content\u001B[38;5;241m=\u001B[39mpreload_content,\n\u001B[1;32m    800\u001B[0m     decode_content\u001B[38;5;241m=\u001B[39mdecode_content,\n\u001B[1;32m    801\u001B[0m     \u001B[38;5;241m*\u001B[39m\u001B[38;5;241m*\u001B[39mresponse_kw,\n\u001B[1;32m    802\u001B[0m )\n\u001B[1;32m    804\u001B[0m \u001B[38;5;66;03m# Everything went great!\u001B[39;00m\n\u001B[1;32m    805\u001B[0m clean_exit \u001B[38;5;241m=\u001B[39m \u001B[38;5;28;01mTrue\u001B[39;00m\n",
      "File \u001B[0;32m/opt/anaconda3/envs/tasc_env/lib/python3.12/site-packages/urllib3/connectionpool.py:536\u001B[0m, in \u001B[0;36mHTTPConnectionPool._make_request\u001B[0;34m(self, conn, method, url, body, headers, retries, timeout, chunked, response_conn, preload_content, decode_content, enforce_content_length)\u001B[0m\n\u001B[1;32m    534\u001B[0m \u001B[38;5;66;03m# Receive the response from the server\u001B[39;00m\n\u001B[1;32m    535\u001B[0m \u001B[38;5;28;01mtry\u001B[39;00m:\n\u001B[0;32m--> 536\u001B[0m     response \u001B[38;5;241m=\u001B[39m conn\u001B[38;5;241m.\u001B[39mgetresponse()\n\u001B[1;32m    537\u001B[0m \u001B[38;5;28;01mexcept\u001B[39;00m (BaseSSLError, \u001B[38;5;167;01mOSError\u001B[39;00m) \u001B[38;5;28;01mas\u001B[39;00m e:\n\u001B[1;32m    538\u001B[0m     \u001B[38;5;28mself\u001B[39m\u001B[38;5;241m.\u001B[39m_raise_timeout(err\u001B[38;5;241m=\u001B[39me, url\u001B[38;5;241m=\u001B[39murl, timeout_value\u001B[38;5;241m=\u001B[39mread_timeout)\n",
      "File \u001B[0;32m/opt/anaconda3/envs/tasc_env/lib/python3.12/site-packages/urllib3/connection.py:464\u001B[0m, in \u001B[0;36mHTTPConnection.getresponse\u001B[0;34m(self)\u001B[0m\n\u001B[1;32m    461\u001B[0m \u001B[38;5;28;01mfrom\u001B[39;00m \u001B[38;5;21;01m.\u001B[39;00m\u001B[38;5;21;01mresponse\u001B[39;00m \u001B[38;5;28;01mimport\u001B[39;00m HTTPResponse\n\u001B[1;32m    463\u001B[0m \u001B[38;5;66;03m# Get the response from http.client.HTTPConnection\u001B[39;00m\n\u001B[0;32m--> 464\u001B[0m httplib_response \u001B[38;5;241m=\u001B[39m \u001B[38;5;28msuper\u001B[39m()\u001B[38;5;241m.\u001B[39mgetresponse()\n\u001B[1;32m    466\u001B[0m \u001B[38;5;28;01mtry\u001B[39;00m:\n\u001B[1;32m    467\u001B[0m     assert_header_parsing(httplib_response\u001B[38;5;241m.\u001B[39mmsg)\n",
      "File \u001B[0;32m/opt/anaconda3/envs/tasc_env/lib/python3.12/http/client.py:1428\u001B[0m, in \u001B[0;36mHTTPConnection.getresponse\u001B[0;34m(self)\u001B[0m\n\u001B[1;32m   1426\u001B[0m \u001B[38;5;28;01mtry\u001B[39;00m:\n\u001B[1;32m   1427\u001B[0m     \u001B[38;5;28;01mtry\u001B[39;00m:\n\u001B[0;32m-> 1428\u001B[0m         response\u001B[38;5;241m.\u001B[39mbegin()\n\u001B[1;32m   1429\u001B[0m     \u001B[38;5;28;01mexcept\u001B[39;00m \u001B[38;5;167;01mConnectionError\u001B[39;00m:\n\u001B[1;32m   1430\u001B[0m         \u001B[38;5;28mself\u001B[39m\u001B[38;5;241m.\u001B[39mclose()\n",
      "File \u001B[0;32m/opt/anaconda3/envs/tasc_env/lib/python3.12/http/client.py:331\u001B[0m, in \u001B[0;36mHTTPResponse.begin\u001B[0;34m(self)\u001B[0m\n\u001B[1;32m    329\u001B[0m \u001B[38;5;66;03m# read until we get a non-100 response\u001B[39;00m\n\u001B[1;32m    330\u001B[0m \u001B[38;5;28;01mwhile\u001B[39;00m \u001B[38;5;28;01mTrue\u001B[39;00m:\n\u001B[0;32m--> 331\u001B[0m     version, status, reason \u001B[38;5;241m=\u001B[39m \u001B[38;5;28mself\u001B[39m\u001B[38;5;241m.\u001B[39m_read_status()\n\u001B[1;32m    332\u001B[0m     \u001B[38;5;28;01mif\u001B[39;00m status \u001B[38;5;241m!=\u001B[39m CONTINUE:\n\u001B[1;32m    333\u001B[0m         \u001B[38;5;28;01mbreak\u001B[39;00m\n",
      "File \u001B[0;32m/opt/anaconda3/envs/tasc_env/lib/python3.12/http/client.py:292\u001B[0m, in \u001B[0;36mHTTPResponse._read_status\u001B[0;34m(self)\u001B[0m\n\u001B[1;32m    291\u001B[0m \u001B[38;5;28;01mdef\u001B[39;00m \u001B[38;5;21m_read_status\u001B[39m(\u001B[38;5;28mself\u001B[39m):\n\u001B[0;32m--> 292\u001B[0m     line \u001B[38;5;241m=\u001B[39m \u001B[38;5;28mstr\u001B[39m(\u001B[38;5;28mself\u001B[39m\u001B[38;5;241m.\u001B[39mfp\u001B[38;5;241m.\u001B[39mreadline(_MAXLINE \u001B[38;5;241m+\u001B[39m \u001B[38;5;241m1\u001B[39m), \u001B[38;5;124m\"\u001B[39m\u001B[38;5;124miso-8859-1\u001B[39m\u001B[38;5;124m\"\u001B[39m)\n\u001B[1;32m    293\u001B[0m     \u001B[38;5;28;01mif\u001B[39;00m \u001B[38;5;28mlen\u001B[39m(line) \u001B[38;5;241m>\u001B[39m _MAXLINE:\n\u001B[1;32m    294\u001B[0m         \u001B[38;5;28;01mraise\u001B[39;00m LineTooLong(\u001B[38;5;124m\"\u001B[39m\u001B[38;5;124mstatus line\u001B[39m\u001B[38;5;124m\"\u001B[39m)\n",
      "File \u001B[0;32m/opt/anaconda3/envs/tasc_env/lib/python3.12/socket.py:708\u001B[0m, in \u001B[0;36mSocketIO.readinto\u001B[0;34m(self, b)\u001B[0m\n\u001B[1;32m    706\u001B[0m \u001B[38;5;28;01mwhile\u001B[39;00m \u001B[38;5;28;01mTrue\u001B[39;00m:\n\u001B[1;32m    707\u001B[0m     \u001B[38;5;28;01mtry\u001B[39;00m:\n\u001B[0;32m--> 708\u001B[0m         \u001B[38;5;28;01mreturn\u001B[39;00m \u001B[38;5;28mself\u001B[39m\u001B[38;5;241m.\u001B[39m_sock\u001B[38;5;241m.\u001B[39mrecv_into(b)\n\u001B[1;32m    709\u001B[0m     \u001B[38;5;28;01mexcept\u001B[39;00m timeout:\n\u001B[1;32m    710\u001B[0m         \u001B[38;5;28mself\u001B[39m\u001B[38;5;241m.\u001B[39m_timeout_occurred \u001B[38;5;241m=\u001B[39m \u001B[38;5;28;01mTrue\u001B[39;00m\n",
      "File \u001B[0;32m/opt/anaconda3/envs/tasc_env/lib/python3.12/ssl.py:1252\u001B[0m, in \u001B[0;36mSSLSocket.recv_into\u001B[0;34m(self, buffer, nbytes, flags)\u001B[0m\n\u001B[1;32m   1248\u001B[0m     \u001B[38;5;28;01mif\u001B[39;00m flags \u001B[38;5;241m!=\u001B[39m \u001B[38;5;241m0\u001B[39m:\n\u001B[1;32m   1249\u001B[0m         \u001B[38;5;28;01mraise\u001B[39;00m \u001B[38;5;167;01mValueError\u001B[39;00m(\n\u001B[1;32m   1250\u001B[0m           \u001B[38;5;124m\"\u001B[39m\u001B[38;5;124mnon-zero flags not allowed in calls to recv_into() on \u001B[39m\u001B[38;5;132;01m%s\u001B[39;00m\u001B[38;5;124m\"\u001B[39m \u001B[38;5;241m%\u001B[39m\n\u001B[1;32m   1251\u001B[0m           \u001B[38;5;28mself\u001B[39m\u001B[38;5;241m.\u001B[39m\u001B[38;5;18m__class__\u001B[39m)\n\u001B[0;32m-> 1252\u001B[0m     \u001B[38;5;28;01mreturn\u001B[39;00m \u001B[38;5;28mself\u001B[39m\u001B[38;5;241m.\u001B[39mread(nbytes, buffer)\n\u001B[1;32m   1253\u001B[0m \u001B[38;5;28;01melse\u001B[39;00m:\n\u001B[1;32m   1254\u001B[0m     \u001B[38;5;28;01mreturn\u001B[39;00m \u001B[38;5;28msuper\u001B[39m()\u001B[38;5;241m.\u001B[39mrecv_into(buffer, nbytes, flags)\n",
      "File \u001B[0;32m/opt/anaconda3/envs/tasc_env/lib/python3.12/ssl.py:1104\u001B[0m, in \u001B[0;36mSSLSocket.read\u001B[0;34m(self, len, buffer)\u001B[0m\n\u001B[1;32m   1102\u001B[0m \u001B[38;5;28;01mtry\u001B[39;00m:\n\u001B[1;32m   1103\u001B[0m     \u001B[38;5;28;01mif\u001B[39;00m buffer \u001B[38;5;129;01mis\u001B[39;00m \u001B[38;5;129;01mnot\u001B[39;00m \u001B[38;5;28;01mNone\u001B[39;00m:\n\u001B[0;32m-> 1104\u001B[0m         \u001B[38;5;28;01mreturn\u001B[39;00m \u001B[38;5;28mself\u001B[39m\u001B[38;5;241m.\u001B[39m_sslobj\u001B[38;5;241m.\u001B[39mread(\u001B[38;5;28mlen\u001B[39m, buffer)\n\u001B[1;32m   1105\u001B[0m     \u001B[38;5;28;01melse\u001B[39;00m:\n\u001B[1;32m   1106\u001B[0m         \u001B[38;5;28;01mreturn\u001B[39;00m \u001B[38;5;28mself\u001B[39m\u001B[38;5;241m.\u001B[39m_sslobj\u001B[38;5;241m.\u001B[39mread(\u001B[38;5;28mlen\u001B[39m)\n",
      "\u001B[0;31mKeyboardInterrupt\u001B[0m: "
     ]
    }
   ],
   "source": [
    "# Function to download an image from a URL and save it to a file\n",
    "def download_image(url, file_path):\n",
    "    try:\n",
    "        response = requests.get(url)\n",
    "        response.raise_for_status()  # Raise an exception for HTTP errors\n",
    "        with open(file_path, 'wb') as f:\n",
    "            f.write(response.content)\n",
    "        print(f\"Downloaded {file_path}\")\n",
    "    except Exception as e:\n",
    "        print(f\"Failed to download {url}: {e}\")\n",
    "\n",
    "# Loop over partners_df and download images\n",
    "for index, row in shopify_products_df.iterrows():\n",
    "    parent_product_id = row['parent_product_id']\n",
    "    vendor = row['vendor']\n",
    "    image_urls = [\n",
    "        row['product_image_1_url'],\n",
    "        row['product_image_2_url'],\n",
    "        row['product_image_3_url'],\n",
    "        row['product_image_4_url'],\n",
    "        row['product_image_5_url']\n",
    "    ]\n",
    "\n",
    "    for i, url in enumerate(image_urls, start=1):\n",
    "        if pd.notna(url):  # Check if the URL is not NaN\n",
    "            file_name = f\"/output_images_test/{parent_product_id}_{vendor}_image_{i}.jpg\"\n",
    "            download_image(url, file_name)"
   ],
   "metadata": {
    "collapsed": false,
    "ExecuteTime": {
     "end_time": "2024-09-12T13:00:21.511785Z",
     "start_time": "2024-09-12T13:00:13.886097Z"
    }
   },
   "id": "8aa78b5eda467c40"
  },
  {
   "cell_type": "code",
   "execution_count": null,
   "outputs": [],
   "source": [],
   "metadata": {
    "collapsed": false
   },
   "id": "64734b3e8f1420de"
  }
 ],
 "metadata": {
  "kernelspec": {
   "display_name": "Python 3",
   "language": "python",
   "name": "python3"
  },
  "language_info": {
   "codemirror_mode": {
    "name": "ipython",
    "version": 2
   },
   "file_extension": ".py",
   "mimetype": "text/x-python",
   "name": "python",
   "nbconvert_exporter": "python",
   "pygments_lexer": "ipython2",
   "version": "2.7.6"
  }
 },
 "nbformat": 4,
 "nbformat_minor": 5
}
